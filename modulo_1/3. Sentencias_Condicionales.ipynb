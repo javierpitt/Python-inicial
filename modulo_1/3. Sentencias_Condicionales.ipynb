{
  "nbformat": 4,
  "nbformat_minor": 0,
  "metadata": {
    "colab": {
      "name": "modulo 2.ipynb",
      "provenance": [],
      "include_colab_link": true
    },
    "kernelspec": {
      "name": "python3",
      "display_name": "Python 3"
    },
    "language_info": {
      "name": "python"
    }
  },
  "cells": [
    {
      "cell_type": "markdown",
      "metadata": {
        "id": "view-in-github",
        "colab_type": "text"
      },
      "source": [
        "<a href=\"https://colab.research.google.com/github/javierpitt/Python-inicial/blob/main/modulo_1/3.%20Sentencias_Condicionales.ipynb\" target=\"_parent\"><img src=\"https://colab.research.google.com/assets/colab-badge.svg\" alt=\"Open In Colab\"/></a>"
      ]
    },
    {
      "cell_type": "markdown",
      "source": [
        "<img src=\"https://www.ctic.uni.edu.pe/wp-content/uploads/2022/04/588px-x-348px-web-1.png\" alt=\"HTML5 Icon\" width=\"900\" height=\"350\" >\n"
      ],
      "metadata": {
        "id": "qCg1zV0_DK0j"
      }
    },
    {
      "cell_type": "markdown",
      "source": [
        "<h1 align=center><font size = 5> SENTENCIAS CONDICIONALES\n",
        "\n",
        "</font></h1>\n",
        "\n",
        "---"
      ],
      "metadata": {
        "id": "XJ-qSpecBnPA"
      }
    },
    {
      "cell_type": "markdown",
      "source": [
        "## Ejercicio 1"
      ],
      "metadata": {
        "id": "Pjm79uguowIC"
      }
    },
    {
      "cell_type": "markdown",
      "source": [
        "**Día de la Semana**\n",
        "\n",
        "Crea un programa que solicite al usuario un número del 1 al 7 y devuelva el día de la semana correspondiente (1 para lunes, 2 para martes, etc.). Si el número está fuera de ese rango, el programa debe mostrar un mensaje de error."
      ],
      "metadata": {
        "id": "SdnlyoStB_pK"
      }
    },
    {
      "cell_type": "code",
      "source": [],
      "metadata": {
        "id": "QZgHG00qpSNn"
      },
      "execution_count": null,
      "outputs": []
    },
    {
      "cell_type": "markdown",
      "source": [
        "## Ejercicio 2"
      ],
      "metadata": {
        "id": "dBLOcsf7pOAc"
      }
    },
    {
      "cell_type": "markdown",
      "source": [
        "**Clasificador de Edades**\n",
        "\n",
        "Escribe un programa que pida al usuario su edad y determine si es un niño (menores de 13), un adolescente (entre 13 y 17 años), un adulto (entre 18 y 64 años) o un adulto mayor (65 años o más). Usa if, elif y else para manejar los diferentes rangos de edad."
      ],
      "metadata": {
        "id": "qaFUqFj8pWXo"
      }
    },
    {
      "cell_type": "code",
      "source": [],
      "metadata": {
        "id": "Ku3EOGfmpbey"
      },
      "execution_count": null,
      "outputs": []
    },
    {
      "cell_type": "markdown",
      "source": [
        "## Ejercicio 3"
      ],
      "metadata": {
        "id": "3mMq8vHKpa7Y"
      }
    },
    {
      "cell_type": "markdown",
      "source": [
        "**Calculadora de Tarifa de Transporte**\n",
        "\n",
        "Diseña un programa que calcule el costo del billete de autobús según la distancia del viaje. La tarifa base para los primeros 5 kilómetros es de 2. Cada kilómetro adicional hasta 20 kilómetros cuesta 0.50 extra por kilómetro. Para distancias mayores a 20 kilómetros, cada kilómetro adicional cuesta 0.30. El programa debe pedir al usuario la distancia del viaje y calcular el costo total."
      ],
      "metadata": {
        "id": "xmLc4gGTpgDG"
      }
    },
    {
      "cell_type": "markdown",
      "source": [
        "## Ejercicio 4"
      ],
      "metadata": {
        "id": "vGY7cl60po9Z"
      }
    },
    {
      "cell_type": "markdown",
      "source": [
        "**Simulador de Calificaciones**\n",
        "\n",
        "Crea un programa que simule la entrada de calificaciones de un estudiante en 5 materias, calcule el promedio y luego determine la categoría de desempeño académico basándose en el promedio: insuficiente (menor a 6), suficiente (6-6.9), bueno (7-8.9), muy bueno (9-9.9) y excelente (10). Además, el programa debe indicar si el estudiante ha reprobado alguna materia."
      ],
      "metadata": {
        "id": "hfY02LIlprAr"
      }
    },
    {
      "cell_type": "code",
      "source": [],
      "metadata": {
        "id": "dtTAzOrbp5Cc"
      },
      "execution_count": null,
      "outputs": []
    },
    {
      "cell_type": "markdown",
      "source": [
        "## Ejercicio 5"
      ],
      "metadata": {
        "id": "OTHCLAOMp5dz"
      }
    },
    {
      "cell_type": "markdown",
      "source": [
        "**Sistema de Bonos por Desempeño**\n",
        "\n",
        "Desarrolla un programa que calcule el bono de fin de año para los empleados de una empresa. El bono se calcula en base a los años de servicio y la evaluación de desempeño. Los empleados con menos de 2 años no reciben bono. Los empleados con 2 a 5 años reciben un 10% de su salario si su desempeño fue \"bueno\", un 20% si fue \"excelente\". Para los empleados con más de 5 años, el bono es del 20% para \"bueno\" y del 30% para \"excelente\". La entrada del programa serán los años de servicio, el salario y la evaluación de desempeño."
      ],
      "metadata": {
        "id": "4RkTFgtQp7N3"
      }
    },
    {
      "cell_type": "code",
      "source": [],
      "metadata": {
        "id": "xIdHopRLqCr_"
      },
      "execution_count": null,
      "outputs": []
    },
    {
      "cell_type": "markdown",
      "source": [
        "---\n",
        "\n",
        "# Gracias por completar este laboratorio!\n",
        "\n",
        "---\n"
      ],
      "metadata": {
        "id": "Z8TPfkHyH_D5"
      }
    }
  ]
}