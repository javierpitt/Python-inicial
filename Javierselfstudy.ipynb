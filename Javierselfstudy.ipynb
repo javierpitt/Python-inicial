{
  "nbformat": 4,
  "nbformat_minor": 0,
  "metadata": {
    "colab": {
      "provenance": [],
      "authorship_tag": "ABX9TyPBOuI9eu/pNH0QatJkh1NN",
      "include_colab_link": true
    },
    "kernelspec": {
      "name": "python3",
      "display_name": "Python 3"
    },
    "language_info": {
      "name": "python"
    }
  },
  "cells": [
    {
      "cell_type": "markdown",
      "metadata": {
        "id": "view-in-github",
        "colab_type": "text"
      },
      "source": [
        "<a href=\"https://colab.research.google.com/github/javierpitt/Python-inicial/blob/main/Javierselfstudy.ipynb\" target=\"_parent\"><img src=\"https://colab.research.google.com/assets/colab-badge.svg\" alt=\"Open In Colab\"/></a>"
      ]
    },
    {
      "cell_type": "code",
      "execution_count": null,
      "metadata": {
        "colab": {
          "base_uri": "https://localhost:8080/"
        },
        "id": "rdfKf4OCCaFH",
        "outputId": "34b955a6-cac2-4e8f-a48f-0db13d90d7d5"
      },
      "outputs": [
        {
          "output_type": "stream",
          "name": "stdout",
          "text": [
            "Hola Mundo con Python\n"
          ]
        }
      ],
      "source": [
        "print(\"Hola Mundo con Python\")"
      ]
    },
    {
      "cell_type": "code",
      "source": [
        "print(\"Cursos de ML e IA\")"
      ],
      "metadata": {
        "colab": {
          "base_uri": "https://localhost:8080/"
        },
        "id": "WszwrqbkPd0B",
        "outputId": "4b199305-1b20-4907-966f-4c4a04392e26"
      },
      "execution_count": null,
      "outputs": [
        {
          "output_type": "stream",
          "name": "stdout",
          "text": [
            "Cursos de ML e IA\n"
          ]
        }
      ]
    },
    {
      "cell_type": "code",
      "source": [
        "print(\"\\033[4;36m\"+\"aprender Cursos de ML e IA \")"
      ],
      "metadata": {
        "colab": {
          "base_uri": "https://localhost:8080/"
        },
        "id": "IHUbzGddQVWz",
        "outputId": "6a9ede09-a164-4b97-9e51-15b7e19b7b1b"
      },
      "execution_count": null,
      "outputs": [
        {
          "output_type": "stream",
          "name": "stdout",
          "text": [
            "\u001b[4;36maprender Cursos de ML e IA \n"
          ]
        }
      ]
    },
    {
      "cell_type": "code",
      "source": [
        "print(\"\\033[1;35m\"+\"UTEC cursos virtuales \")"
      ],
      "metadata": {
        "colab": {
          "base_uri": "https://localhost:8080/"
        },
        "id": "EvWnh1iRTuyz",
        "outputId": "5574cc01-4780-4eb8-fd35-cfdadb18a29e"
      },
      "execution_count": null,
      "outputs": [
        {
          "output_type": "stream",
          "name": "stdout",
          "text": [
            "\u001b[1;35mUTEC cursos virtuales \n"
          ]
        }
      ]
    },
    {
      "cell_type": "markdown",
      "source": [
        "# Enviar un saludo a la consola utilizando Python"
      ],
      "metadata": {
        "id": "1AM92A0dV2ME"
      }
    },
    {
      "cell_type": "code",
      "source": [
        "print(\"\\033[3;36m\"+\"Este es mi saludo desde Python \")"
      ],
      "metadata": {
        "colab": {
          "base_uri": "https://localhost:8080/"
        },
        "id": "LYLLm2apU6C6",
        "outputId": "91bc0976-8397-47e1-9e71-bb6f73312445"
      },
      "execution_count": null,
      "outputs": [
        {
          "output_type": "stream",
          "name": "stdout",
          "text": [
            "\u001b[3;36mEste es mi saludo desde Python \n"
          ]
        }
      ]
    },
    {
      "cell_type": "markdown",
      "source": [
        "# Declarar nombres de variables"
      ],
      "metadata": {
        "id": "pGePIuiBYExa"
      }
    },
    {
      "cell_type": "code",
      "source": [
        "my_name = \"Javier Quispe\"\n",
        "brother = \"Cesar Quispe\"\n",
        "sister = \"Jeanette Quispe\"\n",
        "\n",
        "print (brother)\n",
        "print (sister)\n",
        "print (my_name)"
      ],
      "metadata": {
        "colab": {
          "base_uri": "https://localhost:8080/"
        },
        "id": "SX6EiV-iYJLq",
        "outputId": "f1d8c904-cec6-4742-a4fb-6e823cefc73c"
      },
      "execution_count": null,
      "outputs": [
        {
          "output_type": "stream",
          "name": "stdout",
          "text": [
            "Cesar Quispe\n",
            "Jeanette Quispe\n",
            "Javier Quispe\n"
          ]
        }
      ]
    },
    {
      "cell_type": "code",
      "source": [
        "x = 10\n",
        "y = 3\n",
        "z = x + y\n",
        "print(x)\n",
        "print(y)\n",
        "print(z)"
      ],
      "metadata": {
        "colab": {
          "base_uri": "https://localhost:8080/"
        },
        "id": "dtfUQzKhaB7E",
        "outputId": "0770a6d0-35db-4492-958e-e959eef61f67"
      },
      "execution_count": null,
      "outputs": [
        {
          "output_type": "stream",
          "name": "stdout",
          "text": [
            "10\n",
            "3\n",
            "13\n"
          ]
        }
      ]
    },
    {
      "cell_type": "code",
      "source": [],
      "metadata": {
        "id": "1dLpmE5P9V5D"
      },
      "execution_count": null,
      "outputs": []
    },
    {
      "cell_type": "markdown",
      "source": [
        "# declarar 3 variables: nombre, telefono, email\n"
      ],
      "metadata": {
        "id": "NEaBcjq89Mne"
      }
    },
    {
      "cell_type": "code",
      "source": [
        "name = \"Natalia Vargas\"\n",
        "phone_number = 991369736\n",
        "email = \"jquispe@banbif.com.pe\"\n",
        "\n",
        "print (\"El nombre del alumno es\" +\" \"+ name)\n",
        "print (phone_number)\n",
        "print (email)\n"
      ],
      "metadata": {
        "id": "sZybEteD9W9g",
        "outputId": "53f0f1fd-8592-4ac6-b819-7aea607743b5",
        "colab": {
          "base_uri": "https://localhost:8080/"
        }
      },
      "execution_count": null,
      "outputs": [
        {
          "output_type": "stream",
          "name": "stdout",
          "text": [
            "El nombre del alumno es Natalia Vargas\n",
            "991369736\n",
            "jquispe@banbif.com.pe\n"
          ]
        }
      ]
    },
    {
      "cell_type": "code",
      "source": [],
      "metadata": {
        "id": "S2Pabrn8AtdP"
      },
      "execution_count": null,
      "outputs": []
    },
    {
      "cell_type": "markdown",
      "source": [
        "# Como identificar el tipo de variable\n"
      ],
      "metadata": {
        "id": "vT4MV_acAmD_"
      }
    },
    {
      "cell_type": "code",
      "source": [
        "x = \"Hola alumno UTEC\"\n",
        "phone = 4241527\n",
        "age = 24\n",
        "rate = 16.3\n",
        "z = True\n",
        "m = False\n",
        "\n",
        "print (type(x))\n",
        "print (type(phone))\n",
        "print (type(age))\n",
        "print (type(rate))\n",
        "print (type(z))\n",
        "print (type(m))"
      ],
      "metadata": {
        "id": "PbaTP9W2AvcX",
        "outputId": "e5ddcdb6-19e4-4972-b20e-27c1e7dd41c8",
        "colab": {
          "base_uri": "https://localhost:8080/"
        }
      },
      "execution_count": null,
      "outputs": [
        {
          "output_type": "stream",
          "name": "stdout",
          "text": [
            "<class 'str'>\n",
            "<class 'int'>\n",
            "<class 'int'>\n",
            "<class 'float'>\n",
            "<class 'bool'>\n",
            "<class 'bool'>\n"
          ]
        }
      ]
    },
    {
      "cell_type": "markdown",
      "source": [
        "#Concatenar cadenas"
      ],
      "metadata": {
        "id": "Vl3A3HV1D-qa"
      }
    },
    {
      "cell_type": "code",
      "source": [
        "grupofavorito = \"Gran Combo de Puerto Rico\"\n",
        "music = \"salsa\"\n",
        "best_song = \"Un Verano en Nueva York\"\n",
        "\n",
        "\n",
        "print (\"Mi grupo favorito es: El \"+ grupofavorito + \", el genero de musica que tocan es la  \"  + music + \" y la cancion mas conocida es \" + best_song)"
      ],
      "metadata": {
        "id": "gwOil513EC9w",
        "outputId": "4556aa9f-13a4-4f9c-a119-8a126339144b",
        "colab": {
          "base_uri": "https://localhost:8080/"
        }
      },
      "execution_count": null,
      "outputs": [
        {
          "output_type": "stream",
          "name": "stdout",
          "text": [
            "Mi grupo favorito es: El Gran Combo de Puerto Rico, el genero de musica que tocan es la  salsa y la cancion mas conocida es Un Verano en Nueva York\n"
          ]
        }
      ]
    },
    {
      "cell_type": "code",
      "source": [
        "number1 = \"15\"\n",
        "number2 = \"10\"\n",
        "number3 = \"12\"\n",
        "\n",
        "print (int(number1)+ int(number2))\n",
        "print (int(number3) - int(number2))"
      ],
      "metadata": {
        "id": "xp_5eo_26PCg",
        "outputId": "3da57bdd-1678-4452-e741-a7a7c92b95c1",
        "colab": {
          "base_uri": "https://localhost:8080/"
        }
      },
      "execution_count": null,
      "outputs": [
        {
          "output_type": "stream",
          "name": "stdout",
          "text": [
            "25\n",
            "2\n"
          ]
        }
      ]
    },
    {
      "cell_type": "markdown",
      "source": [
        "# Tipos Bool y funcion Input para procesar la entrada del usuario\n"
      ],
      "metadata": {
        "id": "ieO68gyn74D7"
      }
    },
    {
      "cell_type": "code",
      "source": [
        "mivariable = True\n",
        "print(mivariable)\n",
        "\n",
        "mivariable = 12 > 13\n",
        "print(mivariable)\n",
        "\n",
        "if mivariable:\n",
        "  print(\"El resultado fue verdadero\")\n",
        "else:\n",
        "  print(\"Te equivocaste porque el resultado fue falso\")\n",
        "\n",
        "\n"
      ],
      "metadata": {
        "id": "4wAUXlWH79An",
        "outputId": "361b7e4b-ceec-4233-c071-55bde1f1a394",
        "colab": {
          "base_uri": "https://localhost:8080/"
        }
      },
      "execution_count": null,
      "outputs": [
        {
          "output_type": "stream",
          "name": "stdout",
          "text": [
            "True\n",
            "False\n",
            "Te equivocaste porque el resultado fue falso\n"
          ]
        }
      ]
    },
    {
      "cell_type": "code",
      "source": [
        "#Notas Programa MIT\n",
        "RateDI = input(\"Nota del curso Diseño Industrial :\")\n",
        "RatePD = input(\"Nota del curso Plataformas Digitales :\")\n",
        "RateDX = input (\"Nota del curso DesignMITX :\")\n",
        "\n",
        "skillM = RateDI > RatePD\n",
        "\n",
        "if skillM:\n",
        "    print(\"Tienes mas habilidades para trabajar en el mundo de la manufactura\")\n",
        "else:\n",
        "    print(\"Aprovecha tus conocimientos de plataformas digitales\")\n",
        "\n"
      ],
      "metadata": {
        "id": "EHjdOYHd-77o",
        "outputId": "e83158de-e814-4881-e452-2168c06bf2e5",
        "colab": {
          "base_uri": "https://localhost:8080/"
        }
      },
      "execution_count": null,
      "outputs": [
        {
          "output_type": "stream",
          "name": "stdout",
          "text": [
            "Nota del curso Diseño Industrial :16\n",
            "Nota del curso Plataformas Digitales :17\n",
            "Nota del curso DesignMITX :11\n",
            "Aprovecha tus conocimientos de plataformas digitales\n"
          ]
        }
      ]
    },
    {
      "cell_type": "code",
      "source": [
        "#Edades de la familia\n",
        "AgeN = 45\n",
        "AgeJ = 42\n",
        "AgeC = 39\n",
        "\n",
        "AgeM = input(\"Edad de Mafalda: \")\n",
        "\n",
        "SumaAge = AgeN + AgeJ\n",
        "print(\"La suma de ambas edades es:\", SumaAge)\n",
        "\n",
        "Promedio = AgeM / AgeC\n",
        "print()\n",
        "\n"
      ],
      "metadata": {
        "id": "ZsTBImD-OTzA",
        "outputId": "fd125a46-3093-4e6b-f5c8-185f04002202",
        "colab": {
          "base_uri": "https://localhost:8080/"
        }
      },
      "execution_count": null,
      "outputs": [
        {
          "output_type": "stream",
          "name": "stdout",
          "text": [
            "Edad de Mafalda: 50\n",
            "La suma de ambas edades es: 87\n"
          ]
        }
      ]
    },
    {
      "cell_type": "markdown",
      "source": [
        "# Punto 5 - Condicionales If,elif y else ---- Ejemplo:Formato de encuesta NPS con output semaforo"
      ],
      "metadata": {
        "id": "KauPWC3Bddmu"
      }
    },
    {
      "cell_type": "code",
      "source": [
        "#Consultar por el NPS de la empresa, donde el rango es de 0 a 10. Siendo 10 la satisfaccion mas alta y 0 la peor satisfaccion\n",
        "# Buena = 7 al 10, mediana = 4 al 6 y mala= 0 al 3\n",
        "NPS = int(input(\"Califique el NPS de la empresa en un rango de 0 a 10, donde 10 es la mejor calificacion y 0 es la mas baja: \"  \" Mi calificacion es \"))\n",
        "\n",
        "if (NPS>=7 and NPS<=10):\n",
        "    print(\"\\x1b[1;32m\" + \"Nos sentimos contentos que continues en nuestra comunidad\")\n",
        "elif (NPS<7 and NPS>3):\n",
        "    print(\"\\x1b[1;33m\" + \"Seguimos mejorando para que tengas una mejor experiencia\")\n",
        "elif NPS>10:\n",
        "    print(\"Recuerda que el rango es de 0 a 10 \")\n",
        "else:\n",
        "    print(\"\\x1b[1;31m\" + \"Un ejecutivo se contactara contigo para que nos cuentes tu experiencia\")\n"
      ],
      "metadata": {
        "id": "wJNXrc9bdv5W",
        "outputId": "5dc5b922-9ab0-4d22-dd94-385ae3018c30",
        "colab": {
          "base_uri": "https://localhost:8080/"
        }
      },
      "execution_count": null,
      "outputs": [
        {
          "output_type": "stream",
          "name": "stdout",
          "text": [
            "Califique el NPS de la empresa en un rango de 0 a 10, donde 10 es la mejor calificacion y 0 es la mas baja:  Mi calificacion es 15\n",
            "Recuerda que el rango es de 0 a 10 \n"
          ]
        }
      ]
    },
    {
      "cell_type": "markdown",
      "source": [
        "# Punto 6 Ejercicio de operaciones aritmeticas (+,-,*,**,/,%)\n",
        "\n"
      ],
      "metadata": {
        "id": "Sz2cpBjoVznA"
      }
    },
    {
      "cell_type": "code",
      "source": [
        "\"\"\" Se acercan los juegos florales en el colegio y los profesores deben presentar sus proyectos STEM que son clasificados como simple, complejo y muy complejo.\n",
        "Cada profesor debe asignar el numero de trabajos a presentarse en su salon por lo que acordaron que cada salon dependiendo del numero de participantes que tendra llevara proyectos.\n",
        " La suma de todos los alumnos de cada salon sera el numero  de proyectos a presentar. \"\"\"\n",
        "\n",
        "\n",
        "nameclass= input(\"Nombre del salon \")\n",
        "numberclassmates= int(input(\"Numero de alumnos que representaran al salon:  \"))\n",
        "\n",
        "projects = numberclassmates * (numberclassmates + 1) / 2\n",
        "\n",
        "print (projects)\n",
        "\n",
        "print (f\"El salon {nameclass} presentara {projects} projectos en los juegos florales del año 2024\")\n",
        "\n"
      ],
      "metadata": {
        "id": "AV3Y_17KWEGB",
        "outputId": "a7bc5263-85a7-4144-86c1-16f3ceccc18c",
        "colab": {
          "base_uri": "https://localhost:8080/"
        }
      },
      "execution_count": null,
      "outputs": [
        {
          "output_type": "stream",
          "name": "stdout",
          "text": [
            "Nombre del salon Salseros\n",
            "Numero de alumnos que representaran al salon:  9\n",
            "45.0\n",
            "El salon Salseros presentara 45.0 projectos en los juegos florales del año 2024\n"
          ]
        }
      ]
    },
    {
      "cell_type": "markdown",
      "source": [
        "# Punto 7 - Uso de Operadores logicos (and y or).\n",
        "Determinar si una persona esta apto para votar en las siguientes elecciones presidenciales.\n"
      ],
      "metadata": {
        "id": "laal5ZzqFM80"
      }
    },
    {
      "cell_type": "code",
      "source": [
        "# Para votar en las siguientes elecciones, los requisitos son: haber cumplido 18 años, ser de nacionalidad peruana y no ser omiso al anterior sufragio electoral.\n",
        "\n",
        "nacionalidad = input(\"Mi nacionalidad es: \")\n",
        "edad = input(\"Mi edad es: \")\n",
        "ulti_vota = input(\"Mi ultimo año de votacion fue: \")\n",
        "\n",
        "nacionalidad == \"peruano\" or \"peruana\"\n",
        "edad = >18\n",
        "ulti vota ==  2020 or \"primera vez\"\n",
        "\n",
        "nacionalidad = True\n",
        "edad = True\n",
        "ultima vota = True\n",
        "\n",
        "apto = nacionalidad and edad and ultima vota\n",
        "\n",
        "print(apto)\n",
        "\n",
        "\n"
      ],
      "metadata": {
        "id": "Rus-xDcCFoyu",
        "outputId": "379b9b1f-5a61-48ea-d13d-11dfcdf971c3",
        "colab": {
          "base_uri": "https://localhost:8080/",
          "height": 106
        }
      },
      "execution_count": 5,
      "outputs": [
        {
          "output_type": "error",
          "ename": "SyntaxError",
          "evalue": "invalid syntax (<ipython-input-5-840874758a9f>, line 8)",
          "traceback": [
            "\u001b[0;36m  File \u001b[0;32m\"<ipython-input-5-840874758a9f>\"\u001b[0;36m, line \u001b[0;32m8\u001b[0m\n\u001b[0;31m    edad = >18\u001b[0m\n\u001b[0m           ^\u001b[0m\n\u001b[0;31mSyntaxError\u001b[0m\u001b[0;31m:\u001b[0m invalid syntax\n"
          ]
        }
      ]
    }
  ]
}