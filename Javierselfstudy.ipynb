{
  "nbformat": 4,
  "nbformat_minor": 0,
  "metadata": {
    "colab": {
      "provenance": [],
      "authorship_tag": "ABX9TyO/luu0/H2Erol4FOKT/vtR",
      "include_colab_link": true
    },
    "kernelspec": {
      "name": "python3",
      "display_name": "Python 3"
    },
    "language_info": {
      "name": "python"
    }
  },
  "cells": [
    {
      "cell_type": "markdown",
      "metadata": {
        "id": "view-in-github",
        "colab_type": "text"
      },
      "source": [
        "<a href=\"https://colab.research.google.com/github/javierpitt/Python-inicial/blob/main/Javierselfstudy.ipynb\" target=\"_parent\"><img src=\"https://colab.research.google.com/assets/colab-badge.svg\" alt=\"Open In Colab\"/></a>"
      ]
    },
    {
      "cell_type": "code",
      "execution_count": 2,
      "metadata": {
        "colab": {
          "base_uri": "https://localhost:8080/"
        },
        "id": "rdfKf4OCCaFH",
        "outputId": "34b955a6-cac2-4e8f-a48f-0db13d90d7d5"
      },
      "outputs": [
        {
          "output_type": "stream",
          "name": "stdout",
          "text": [
            "Hola Mundo con Python\n"
          ]
        }
      ],
      "source": [
        "print(\"Hola Mundo con Python\")"
      ]
    },
    {
      "cell_type": "code",
      "source": [
        "print(\"Cursos de ML e IA\")"
      ],
      "metadata": {
        "colab": {
          "base_uri": "https://localhost:8080/"
        },
        "id": "WszwrqbkPd0B",
        "outputId": "4b199305-1b20-4907-966f-4c4a04392e26"
      },
      "execution_count": 3,
      "outputs": [
        {
          "output_type": "stream",
          "name": "stdout",
          "text": [
            "Cursos de ML e IA\n"
          ]
        }
      ]
    },
    {
      "cell_type": "code",
      "source": [
        "print(\"\\033[4;36m\"+\"aprender Cursos de ML e IA \")"
      ],
      "metadata": {
        "colab": {
          "base_uri": "https://localhost:8080/"
        },
        "id": "IHUbzGddQVWz",
        "outputId": "6a9ede09-a164-4b97-9e51-15b7e19b7b1b"
      },
      "execution_count": 4,
      "outputs": [
        {
          "output_type": "stream",
          "name": "stdout",
          "text": [
            "\u001b[4;36maprender Cursos de ML e IA \n"
          ]
        }
      ]
    },
    {
      "cell_type": "code",
      "source": [
        "print(\"\\033[1;35m\"+\"UTEC cursos virtuales \")"
      ],
      "metadata": {
        "colab": {
          "base_uri": "https://localhost:8080/"
        },
        "id": "EvWnh1iRTuyz",
        "outputId": "5574cc01-4780-4eb8-fd35-cfdadb18a29e"
      },
      "execution_count": 6,
      "outputs": [
        {
          "output_type": "stream",
          "name": "stdout",
          "text": [
            "\u001b[1;35mUTEC cursos virtuales \n"
          ]
        }
      ]
    },
    {
      "cell_type": "markdown",
      "source": [
        "# Enviar un saludo a la consola utilizando Python"
      ],
      "metadata": {
        "id": "1AM92A0dV2ME"
      }
    },
    {
      "cell_type": "code",
      "source": [
        "print(\"\\033[3;36m\"+\"Este es mi saludo desde Python \")"
      ],
      "metadata": {
        "colab": {
          "base_uri": "https://localhost:8080/"
        },
        "id": "LYLLm2apU6C6",
        "outputId": "91bc0976-8397-47e1-9e71-bb6f73312445"
      },
      "execution_count": 7,
      "outputs": [
        {
          "output_type": "stream",
          "name": "stdout",
          "text": [
            "\u001b[3;36mEste es mi saludo desde Python \n"
          ]
        }
      ]
    },
    {
      "cell_type": "markdown",
      "source": [
        "# Declarar nombres de variables"
      ],
      "metadata": {
        "id": "pGePIuiBYExa"
      }
    },
    {
      "cell_type": "code",
      "source": [
        "my_name = \"Javier Quispe\"\n",
        "brother = \"Cesar Quispe\"\n",
        "sister = \"Jeanette Quispe\"\n",
        "\n",
        "print (brother)\n",
        "print (sister)\n",
        "print (my_name)"
      ],
      "metadata": {
        "colab": {
          "base_uri": "https://localhost:8080/"
        },
        "id": "SX6EiV-iYJLq",
        "outputId": "f1d8c904-cec6-4742-a4fb-6e823cefc73c"
      },
      "execution_count": 9,
      "outputs": [
        {
          "output_type": "stream",
          "name": "stdout",
          "text": [
            "Cesar Quispe\n",
            "Jeanette Quispe\n",
            "Javier Quispe\n"
          ]
        }
      ]
    },
    {
      "cell_type": "code",
      "source": [
        "x = 10\n",
        "y = 3\n",
        "z = x + y\n",
        "print(x)\n",
        "print(y)\n",
        "print(z)"
      ],
      "metadata": {
        "colab": {
          "base_uri": "https://localhost:8080/"
        },
        "id": "dtfUQzKhaB7E",
        "outputId": "0770a6d0-35db-4492-958e-e959eef61f67"
      },
      "execution_count": 10,
      "outputs": [
        {
          "output_type": "stream",
          "name": "stdout",
          "text": [
            "10\n",
            "3\n",
            "13\n"
          ]
        }
      ]
    }
  ]
}